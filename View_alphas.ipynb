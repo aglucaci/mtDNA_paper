{
 "cells": [
  {
   "cell_type": "code",
   "execution_count": 19,
   "metadata": {},
   "outputs": [
    {
     "name": "stdout",
     "output_type": "stream",
     "text": [
      "['/Users/user/Documents/mtDNA_paper/mtdna_ND5_alphas.csv', '/Users/user/Documents/mtDNA_paper/mtdna_COX2_alphas.csv', '/Users/user/Documents/mtDNA_paper/mtdna_ATP6_alphas.csv', '/Users/user/Documents/mtDNA_paper/mtdna_CYTB_alphas.csv', '/Users/user/Documents/mtDNA_paper/mtdna_ND2_alphas.csv', '/Users/user/Documents/mtDNA_paper/mtdna_ND1_alphas.csv', '/Users/user/Documents/mtDNA_paper/mtdna_COX3_alphas.csv', '/Users/user/Documents/mtDNA_paper/mtdna_ATP8_alphas.csv', '/Users/user/Documents/mtDNA_paper/mtdna_ND4L_alphas.csv', '/Users/user/Documents/mtDNA_paper/mtdna_ND3_alphas.csv', '/Users/user/Documents/mtDNA_paper/mtdna_COX1_alphas.csv', '/Users/user/Documents/mtDNA_paper/mtdna_ND6_alphas.csv']\n"
     ]
    }
   ],
   "source": [
    "# do it as a loop\n",
    "import os\n",
    "import plotly.express as px\n",
    "\n",
    "path = \"/Users/user/Documents/mtDNA_paper\"\n",
    "file_ending = \".csv\"\n",
    "files = [path+\"/\"+f.name for f in os.scandir(path) if f.name.endswith(file_ending)]\n",
    "genes_list = [\"ATP6\",\"ATP8\", \"COX1\", \"COX2\", \"COX3\", \"ND1\", \"ND2\", \"ND3\", \"ND5\", \"ND6\", \"CYTB\", \"ND4L\"]\n",
    "\n",
    "print(files)\n"
   ]
  },
  {
   "cell_type": "code",
   "execution_count": 18,
   "metadata": {
    "scrolled": false
   },
   "outputs": [
    {
     "name": "stdout",
     "output_type": "stream",
     "text": [
      "Plotting: ATP6 /Users/user/Documents/mtDNA_paper/mtdna_ATP6_alphas.csv\n",
      "Plotting: ATP8 /Users/user/Documents/mtDNA_paper/mtdna_ATP8_alphas.csv\n",
      "Plotting: COX1 /Users/user/Documents/mtDNA_paper/mtdna_COX1_alphas.csv\n",
      "Plotting: COX2 /Users/user/Documents/mtDNA_paper/mtdna_COX2_alphas.csv\n",
      "Plotting: COX3 /Users/user/Documents/mtDNA_paper/mtdna_COX3_alphas.csv\n",
      "Plotting: ND1 /Users/user/Documents/mtDNA_paper/mtdna_ND1_alphas.csv\n",
      "Plotting: ND2 /Users/user/Documents/mtDNA_paper/mtdna_ND2_alphas.csv\n",
      "Plotting: ND3 /Users/user/Documents/mtDNA_paper/mtdna_ND3_alphas.csv\n",
      "Plotting: ND5 /Users/user/Documents/mtDNA_paper/mtdna_ND5_alphas.csv\n",
      "Plotting: ND6 /Users/user/Documents/mtDNA_paper/mtdna_ND6_alphas.csv\n",
      "Plotting: CYTB /Users/user/Documents/mtDNA_paper/mtdna_CYTB_alphas.csv\n",
      "Plotting: ND4L /Users/user/Documents/mtDNA_paper/mtdna_ND4L_alphas.csv\n"
     ]
    }
   ],
   "source": [
    "for gene in genes_dict:\n",
    "    for n, file in enumerate(files):\n",
    "        filename = file.split(\"/\")[-1]\n",
    "        if gene in filename.upper():\n",
    "            print(\"Plotting:\", gene, file)\n",
    "            df = pd.read_csv(file)\n",
    "            #print(df)\n",
    "            \n",
    "            fig = px.line(df, x=\"Site_Number\", y=\"Alpha\", color=\"Clade\",\n",
    "              line_group=\"Clade\", hover_name=\"Clade\")\n",
    "            #fig.show()\n",
    "            fig.update_layout(title=gene)\n",
    "            output = gene + \".html\"\n",
    "            fig.write_html(output)\n",
    "            \n",
    "        #end if\n",
    "        "
   ]
  },
  {
   "cell_type": "code",
   "execution_count": null,
   "metadata": {},
   "outputs": [],
   "source": []
  }
 ],
 "metadata": {
  "kernelspec": {
   "display_name": "Python 3",
   "language": "python",
   "name": "python3"
  },
  "language_info": {
   "codemirror_mode": {
    "name": "ipython",
    "version": 3
   },
   "file_extension": ".py",
   "mimetype": "text/x-python",
   "name": "python",
   "nbconvert_exporter": "python",
   "pygments_lexer": "ipython3",
   "version": "3.7.7"
  }
 },
 "nbformat": 4,
 "nbformat_minor": 4
}
